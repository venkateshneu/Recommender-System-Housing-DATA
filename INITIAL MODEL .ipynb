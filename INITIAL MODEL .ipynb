{
 "cells": [
  {
   "cell_type": "code",
   "execution_count": 52,
   "id": "0115b696",
   "metadata": {},
   "outputs": [],
   "source": [
    "import pandas as pd \n",
    "import numpy as np "
   ]
  },
  {
   "cell_type": "code",
   "execution_count": 53,
   "id": "e2ad31b2",
   "metadata": {},
   "outputs": [],
   "source": [
    "df = pd.read_csv(\"gurgaon_properties_post_feature_selection_with_ordinal_encoding.csv.\").drop_duplicates()"
   ]
  },
  {
   "cell_type": "code",
   "execution_count": 64,
   "id": "f267d1c2",
   "metadata": {},
   "outputs": [
    {
     "data": {
      "text/html": [
       "<div>\n",
       "<style scoped>\n",
       "    .dataframe tbody tr th:only-of-type {\n",
       "        vertical-align: middle;\n",
       "    }\n",
       "\n",
       "    .dataframe tbody tr th {\n",
       "        vertical-align: top;\n",
       "    }\n",
       "\n",
       "    .dataframe thead th {\n",
       "        text-align: right;\n",
       "    }\n",
       "</style>\n",
       "<table border=\"1\" class=\"dataframe\">\n",
       "  <thead>\n",
       "    <tr style=\"text-align: right;\">\n",
       "      <th></th>\n",
       "      <th>property_type</th>\n",
       "      <th>sector</th>\n",
       "      <th>bedRoom</th>\n",
       "      <th>bathroom</th>\n",
       "      <th>balcony</th>\n",
       "      <th>floortype</th>\n",
       "      <th>agePossession</th>\n",
       "      <th>built_up_area</th>\n",
       "      <th>store room</th>\n",
       "      <th>servant room</th>\n",
       "      <th>furnishing_type</th>\n",
       "      <th>luxury_score</th>\n",
       "      <th>price</th>\n",
       "    </tr>\n",
       "  </thead>\n",
       "  <tbody>\n",
       "    <tr>\n",
       "      <th>0</th>\n",
       "      <td>0.0</td>\n",
       "      <td>81.0</td>\n",
       "      <td>6.0</td>\n",
       "      <td>7.0</td>\n",
       "      <td>4.0</td>\n",
       "      <td>1.0</td>\n",
       "      <td>3.0</td>\n",
       "      <td>5333.00</td>\n",
       "      <td>0.0</td>\n",
       "      <td>1.0</td>\n",
       "      <td>0.0</td>\n",
       "      <td>2.0</td>\n",
       "      <td>5.00</td>\n",
       "    </tr>\n",
       "    <tr>\n",
       "      <th>1</th>\n",
       "      <td>0.0</td>\n",
       "      <td>45.0</td>\n",
       "      <td>2.0</td>\n",
       "      <td>2.0</td>\n",
       "      <td>3.0</td>\n",
       "      <td>2.0</td>\n",
       "      <td>1.0</td>\n",
       "      <td>625.00</td>\n",
       "      <td>0.0</td>\n",
       "      <td>0.0</td>\n",
       "      <td>0.0</td>\n",
       "      <td>1.0</td>\n",
       "      <td>0.60</td>\n",
       "    </tr>\n",
       "    <tr>\n",
       "      <th>2</th>\n",
       "      <td>0.0</td>\n",
       "      <td>90.0</td>\n",
       "      <td>3.0</td>\n",
       "      <td>4.0</td>\n",
       "      <td>2.0</td>\n",
       "      <td>0.0</td>\n",
       "      <td>1.0</td>\n",
       "      <td>2389.00</td>\n",
       "      <td>0.0</td>\n",
       "      <td>1.0</td>\n",
       "      <td>0.0</td>\n",
       "      <td>1.0</td>\n",
       "      <td>1.90</td>\n",
       "    </tr>\n",
       "    <tr>\n",
       "      <th>3</th>\n",
       "      <td>0.0</td>\n",
       "      <td>67.0</td>\n",
       "      <td>4.0</td>\n",
       "      <td>4.0</td>\n",
       "      <td>2.0</td>\n",
       "      <td>2.0</td>\n",
       "      <td>1.0</td>\n",
       "      <td>2567.00</td>\n",
       "      <td>0.0</td>\n",
       "      <td>1.0</td>\n",
       "      <td>0.0</td>\n",
       "      <td>1.0</td>\n",
       "      <td>6.75</td>\n",
       "    </tr>\n",
       "    <tr>\n",
       "      <th>4</th>\n",
       "      <td>0.0</td>\n",
       "      <td>56.0</td>\n",
       "      <td>3.0</td>\n",
       "      <td>4.0</td>\n",
       "      <td>3.0</td>\n",
       "      <td>2.0</td>\n",
       "      <td>0.0</td>\n",
       "      <td>1750.75</td>\n",
       "      <td>0.0</td>\n",
       "      <td>1.0</td>\n",
       "      <td>1.0</td>\n",
       "      <td>2.0</td>\n",
       "      <td>1.98</td>\n",
       "    </tr>\n",
       "  </tbody>\n",
       "</table>\n",
       "</div>"
      ],
      "text/plain": [
       "   property_type  sector  bedRoom  bathroom  balcony  floortype  \\\n",
       "0            0.0    81.0      6.0       7.0      4.0        1.0   \n",
       "1            0.0    45.0      2.0       2.0      3.0        2.0   \n",
       "2            0.0    90.0      3.0       4.0      2.0        0.0   \n",
       "3            0.0    67.0      4.0       4.0      2.0        2.0   \n",
       "4            0.0    56.0      3.0       4.0      3.0        2.0   \n",
       "\n",
       "   agePossession  built_up_area  store room  servant room  furnishing_type  \\\n",
       "0            3.0        5333.00         0.0           1.0              0.0   \n",
       "1            1.0         625.00         0.0           0.0              0.0   \n",
       "2            1.0        2389.00         0.0           1.0              0.0   \n",
       "3            1.0        2567.00         0.0           1.0              0.0   \n",
       "4            0.0        1750.75         0.0           1.0              1.0   \n",
       "\n",
       "   luxury_score  price  \n",
       "0           2.0   5.00  \n",
       "1           1.0   0.60  \n",
       "2           1.0   1.90  \n",
       "3           1.0   6.75  \n",
       "4           2.0   1.98  "
      ]
     },
     "execution_count": 64,
     "metadata": {},
     "output_type": "execute_result"
    }
   ],
   "source": [
    "df.head()"
   ]
  },
  {
   "cell_type": "code",
   "execution_count": 65,
   "id": "635d7d9e",
   "metadata": {},
   "outputs": [
    {
     "name": "stdout",
     "output_type": "stream",
     "text": [
      "<class 'pandas.core.frame.DataFrame'>\n",
      "Index: 3507 entries, 0 to 3539\n",
      "Data columns (total 13 columns):\n",
      " #   Column           Non-Null Count  Dtype  \n",
      "---  ------           --------------  -----  \n",
      " 0   property_type    3507 non-null   float64\n",
      " 1   sector           3507 non-null   float64\n",
      " 2   bedRoom          3507 non-null   float64\n",
      " 3   bathroom         3507 non-null   float64\n",
      " 4   balcony          3507 non-null   float64\n",
      " 5   floortype        3507 non-null   float64\n",
      " 6   agePossession    3507 non-null   float64\n",
      " 7   built_up_area    3507 non-null   float64\n",
      " 8   store room       3507 non-null   float64\n",
      " 9   servant room     3507 non-null   float64\n",
      " 10  furnishing_type  3507 non-null   float64\n",
      " 11  luxury_score     3507 non-null   float64\n",
      " 12  price            3507 non-null   float64\n",
      "dtypes: float64(13)\n",
      "memory usage: 383.6 KB\n"
     ]
    }
   ],
   "source": [
    "df.info()"
   ]
  },
  {
   "cell_type": "code",
   "execution_count": 56,
   "id": "a0bfafad",
   "metadata": {},
   "outputs": [],
   "source": [
    "X = df.drop(columns = [\"price\"])"
   ]
  },
  {
   "cell_type": "code",
   "execution_count": 57,
   "id": "868e2c17",
   "metadata": {},
   "outputs": [],
   "source": [
    "y= df[\"price\"]"
   ]
  },
  {
   "cell_type": "code",
   "execution_count": 58,
   "id": "9f30dfff",
   "metadata": {},
   "outputs": [
    {
     "data": {
      "text/html": [
       "<div>\n",
       "<style scoped>\n",
       "    .dataframe tbody tr th:only-of-type {\n",
       "        vertical-align: middle;\n",
       "    }\n",
       "\n",
       "    .dataframe tbody tr th {\n",
       "        vertical-align: top;\n",
       "    }\n",
       "\n",
       "    .dataframe thead th {\n",
       "        text-align: right;\n",
       "    }\n",
       "</style>\n",
       "<table border=\"1\" class=\"dataframe\">\n",
       "  <thead>\n",
       "    <tr style=\"text-align: right;\">\n",
       "      <th></th>\n",
       "      <th>property_type</th>\n",
       "      <th>sector</th>\n",
       "      <th>bedRoom</th>\n",
       "      <th>bathroom</th>\n",
       "      <th>balcony</th>\n",
       "      <th>floortype</th>\n",
       "      <th>agePossession</th>\n",
       "      <th>built_up_area</th>\n",
       "      <th>store room</th>\n",
       "      <th>servant room</th>\n",
       "      <th>furnishing_type</th>\n",
       "      <th>luxury_score</th>\n",
       "    </tr>\n",
       "  </thead>\n",
       "  <tbody>\n",
       "    <tr>\n",
       "      <th>0</th>\n",
       "      <td>0.0</td>\n",
       "      <td>81.0</td>\n",
       "      <td>6.0</td>\n",
       "      <td>7.0</td>\n",
       "      <td>4.0</td>\n",
       "      <td>1.0</td>\n",
       "      <td>3.0</td>\n",
       "      <td>5333.0</td>\n",
       "      <td>0.0</td>\n",
       "      <td>1.0</td>\n",
       "      <td>0.0</td>\n",
       "      <td>2.0</td>\n",
       "    </tr>\n",
       "    <tr>\n",
       "      <th>1</th>\n",
       "      <td>0.0</td>\n",
       "      <td>45.0</td>\n",
       "      <td>2.0</td>\n",
       "      <td>2.0</td>\n",
       "      <td>3.0</td>\n",
       "      <td>2.0</td>\n",
       "      <td>1.0</td>\n",
       "      <td>625.0</td>\n",
       "      <td>0.0</td>\n",
       "      <td>0.0</td>\n",
       "      <td>0.0</td>\n",
       "      <td>1.0</td>\n",
       "    </tr>\n",
       "  </tbody>\n",
       "</table>\n",
       "</div>"
      ],
      "text/plain": [
       "   property_type  sector  bedRoom  bathroom  balcony  floortype  \\\n",
       "0            0.0    81.0      6.0       7.0      4.0        1.0   \n",
       "1            0.0    45.0      2.0       2.0      3.0        2.0   \n",
       "\n",
       "   agePossession  built_up_area  store room  servant room  furnishing_type  \\\n",
       "0            3.0         5333.0         0.0           1.0              0.0   \n",
       "1            1.0          625.0         0.0           0.0              0.0   \n",
       "\n",
       "   luxury_score  \n",
       "0           2.0  \n",
       "1           1.0  "
      ]
     },
     "execution_count": 58,
     "metadata": {},
     "output_type": "execute_result"
    }
   ],
   "source": [
    "X.head(2)"
   ]
  },
  {
   "cell_type": "code",
   "execution_count": 59,
   "id": "22d90d63",
   "metadata": {},
   "outputs": [
    {
     "data": {
      "text/plain": [
       "0       5.00\n",
       "1       0.60\n",
       "2       1.90\n",
       "3       6.75\n",
       "4       1.98\n",
       "        ... \n",
       "3535    3.55\n",
       "3536    1.09\n",
       "3537    0.40\n",
       "3538    1.23\n",
       "3539    2.85\n",
       "Name: price, Length: 3507, dtype: float64"
      ]
     },
     "execution_count": 59,
     "metadata": {},
     "output_type": "execute_result"
    }
   ],
   "source": [
    "y"
   ]
  },
  {
   "cell_type": "code",
   "execution_count": 60,
   "id": "8ac2ffaa",
   "metadata": {},
   "outputs": [],
   "source": [
    "from sklearn.model_selection import train_test_split, KFold, cross_val_score\n",
    "from sklearn.pipeline import Pipeline\n",
    "from sklearn.compose import ColumnTransformer\n",
    "from sklearn.preprocessing import StandardScaler, OneHotEncoder\n",
    "from sklearn.svm import SVR\n",
    "from sklearn.metrics import mean_absolute_error"
   ]
  },
  {
   "cell_type": "code",
   "execution_count": 61,
   "id": "d2fe190c",
   "metadata": {},
   "outputs": [],
   "source": [
    "# AS DISCUSSED EARLIER WE USE LOG TRANSFOMATION FOR OUT TARGET VARIABLE AS IT IS RIGHT SKEWED "
   ]
  },
  {
   "cell_type": "code",
   "execution_count": 62,
   "id": "47513dfa",
   "metadata": {},
   "outputs": [],
   "source": [
    "y = np.log1p(y)"
   ]
  },
  {
   "cell_type": "code",
   "execution_count": 66,
   "id": "6a56bfa9",
   "metadata": {},
   "outputs": [
    {
     "name": "stdout",
     "output_type": "stream",
     "text": [
      "property_type      0\n",
      "sector             0\n",
      "bedRoom            0\n",
      "bathroom           0\n",
      "balcony            0\n",
      "floortype          0\n",
      "agePossession      0\n",
      "built_up_area      0\n",
      "store room         0\n",
      "servant room       0\n",
      "furnishing_type    0\n",
      "luxury_score       0\n",
      "price              0\n",
      "dtype: int64\n"
     ]
    },
    {
     "name": "stderr",
     "output_type": "stream",
     "text": [
      "C:\\Users\\guriv\\anaconda3\\Lib\\site-packages\\sklearn\\preprocessing\\_encoders.py:227: UserWarning: Found unknown categories in columns [0] during transform. These unknown categories will be encoded as all zeros\n",
      "  warnings.warn(\n"
     ]
    },
    {
     "name": "stdout",
     "output_type": "stream",
     "text": [
      "Mean R2 Score: 0.8825412436331753\n",
      "Standard Deviation of R2 Scores: 0.023424469928273784\n"
     ]
    },
    {
     "name": "stderr",
     "output_type": "stream",
     "text": [
      "C:\\Users\\guriv\\anaconda3\\Lib\\site-packages\\sklearn\\preprocessing\\_encoders.py:227: UserWarning: Found unknown categories in columns [0] during transform. These unknown categories will be encoded as all zeros\n",
      "  warnings.warn(\n"
     ]
    },
    {
     "name": "stdout",
     "output_type": "stream",
     "text": [
      "Mean MAE Score: 0.12832780576087688\n",
      "Standard Deviation of MAE Scores: 0.0069544203400250144\n",
      "Mean Absolute Error: 0.6100292314666849\n"
     ]
    }
   ],
   "source": [
    "import pandas as pd\n",
    "import numpy as np\n",
    "from sklearn.model_selection import train_test_split, KFold, cross_val_score\n",
    "from sklearn.pipeline import Pipeline\n",
    "from sklearn.compose import ColumnTransformer\n",
    "from sklearn.preprocessing import StandardScaler, OneHotEncoder\n",
    "from sklearn.svm import SVR\n",
    "from sklearn.metrics import mean_absolute_error\n",
    "\n",
    "# Load the dataset\n",
    "df = pd.read_csv(\"gurgaon_properties_post_feature_selection_with_ordinal_encoding.csv\").drop_duplicates()\n",
    "\n",
    "# Reset index properly\n",
    "df.reset_index(drop=True, inplace=True)\n",
    "\n",
    "# Check for null values\n",
    "print(df.isnull().sum())\n",
    "\n",
    "# Separate features and target variable\n",
    "X = df.drop(columns=[\"price\"])\n",
    "y = df[\"price\"]\n",
    "\n",
    "# Log transform the target variable\n",
    "y_transformed = np.log1p(y)\n",
    "\n",
    "# Define columns to encode\n",
    "columns_to_encode = ['sector', 'balcony', 'agePossession', 'furnishing_type', 'luxury_score', 'floortype']\n",
    "\n",
    "# Create a column transformer for preprocessing\n",
    "preprocessor = ColumnTransformer(\n",
    "    transformers=[\n",
    "        ('num', StandardScaler(), ['property_type', 'bedRoom', 'bathroom', 'built_up_area', 'servant room', 'store room']),\n",
    "        ('cat', OneHotEncoder(drop='first', handle_unknown='ignore'), columns_to_encode)\n",
    "    ],\n",
    "    remainder='passthrough'\n",
    ")\n",
    "\n",
    "# Create a pipeline with SVR as the regressor\n",
    "pipeline = Pipeline([\n",
    "    ('preprocessor', preprocessor),\n",
    "    ('regressor', SVR(kernel='rbf'))\n",
    "])\n",
    "\n",
    "# Fit the pipeline on the entire dataset to ensure all categories are included\n",
    "pipeline.fit(X, y_transformed)\n",
    "\n",
    "# Perform K-fold cross-validation for R² score\n",
    "kfold = KFold(n_splits=10, shuffle=True, random_state=42)\n",
    "r2_scores = cross_val_score(pipeline, X, y_transformed, cv=kfold, scoring='r2')\n",
    "\n",
    "# Calculate mean and standard deviation of R² scores\n",
    "mean_r2 = r2_scores.mean()\n",
    "std_r2 = r2_scores.std()\n",
    "\n",
    "print(f\"Mean R2 Score: {mean_r2}\")\n",
    "print(f\"Standard Deviation of R2 Scores: {std_r2}\")\n",
    "\n",
    "# Perform K-fold cross-validation for MAE\n",
    "mae_scores = cross_val_score(pipeline, X, y_transformed, cv=kfold, scoring='neg_mean_absolute_error')\n",
    "\n",
    "# Calculate mean and standard deviation of MAE scores\n",
    "mean_mae = -mae_scores.mean()\n",
    "std_mae = mae_scores.std()\n",
    "\n",
    "print(f\"Mean MAE Score: {mean_mae}\")\n",
    "print(f\"Standard Deviation of MAE Scores: {std_mae}\")\n",
    "\n",
    "# Split data into train and test sets\n",
    "X_train, X_test, y_train, y_test = train_test_split(X, y_transformed, test_size=0.2, random_state=42)\n",
    "\n",
    "# Fit the pipeline on the training data\n",
    "pipeline.fit(X_train, y_train)\n",
    "\n",
    "# Predict on the test data\n",
    "y_pred = pipeline.predict(X_test)\n",
    "\n",
    "# Inverse transform to get actual prices\n",
    "y_pred_actual = np.expm1(y_pred)\n",
    "y_test_actual = np.expm1(y_test)\n",
    "\n",
    "# Calculate mean absolute error\n",
    "mae = mean_absolute_error(y_test_actual, y_pred_actual)\n",
    "print(f\"Mean Absolute Error: {mae}\")\n",
    "\n"
   ]
  },
  {
   "cell_type": "code",
   "execution_count": null,
   "id": "6a874f7a",
   "metadata": {},
   "outputs": [],
   "source": []
  },
  {
   "cell_type": "code",
   "execution_count": null,
   "id": "46d1071f",
   "metadata": {},
   "outputs": [],
   "source": []
  },
  {
   "cell_type": "code",
   "execution_count": null,
   "id": "2ee01305",
   "metadata": {},
   "outputs": [],
   "source": []
  },
  {
   "cell_type": "code",
   "execution_count": null,
   "id": "fe48bfd2",
   "metadata": {},
   "outputs": [],
   "source": []
  },
  {
   "cell_type": "code",
   "execution_count": null,
   "id": "7b38a35e",
   "metadata": {},
   "outputs": [],
   "source": []
  },
  {
   "cell_type": "code",
   "execution_count": null,
   "id": "703c94f4",
   "metadata": {},
   "outputs": [],
   "source": []
  },
  {
   "cell_type": "code",
   "execution_count": null,
   "id": "032b65bf",
   "metadata": {},
   "outputs": [],
   "source": []
  },
  {
   "cell_type": "code",
   "execution_count": null,
   "id": "089ed40b",
   "metadata": {},
   "outputs": [],
   "source": []
  },
  {
   "cell_type": "code",
   "execution_count": null,
   "id": "4d6dd7b5",
   "metadata": {},
   "outputs": [],
   "source": []
  }
 ],
 "metadata": {
  "kernelspec": {
   "display_name": "Python 3 (ipykernel)",
   "language": "python",
   "name": "python3"
  },
  "language_info": {
   "codemirror_mode": {
    "name": "ipython",
    "version": 3
   },
   "file_extension": ".py",
   "mimetype": "text/x-python",
   "name": "python",
   "nbconvert_exporter": "python",
   "pygments_lexer": "ipython3",
   "version": "3.11.5"
  }
 },
 "nbformat": 4,
 "nbformat_minor": 5
}
